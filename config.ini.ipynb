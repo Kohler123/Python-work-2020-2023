{
 "cells": [
  {
   "cell_type": "code",
   "execution_count": null,
   "metadata": {},
   "outputs": [],
   "source": [
    "api_key = P8NMpDsIrh0EuZyyW354fewtS\n",
    "api_key_secret = APQ8tPcl4XaqXSfSuajYDUeKseWTC6LlKgTHi7J6GaQHSL9cpQjN\n",
    "access_token = 1537490457936252930-I5IYyakBdFKTO1pT0p5tzczThiHkhM\n",
    "access_token_secret = lY5Sib58GFynaia4SjX8hgXLXsm0Y0zJvLOX7iw8Xra9Q\n"
   ]
  }
 ],
 "metadata": {
  "kernelspec": {
   "display_name": "Python 3",
   "language": "python",
   "name": "python3"
  },
  "language_info": {
   "codemirror_mode": {
    "name": "ipython",
    "version": 3
   },
   "file_extension": ".py",
   "mimetype": "text/x-python",
   "name": "python",
   "nbconvert_exporter": "python",
   "pygments_lexer": "ipython3",
   "version": "3.8.5"
  }
 },
 "nbformat": 4,
 "nbformat_minor": 4
}
